{
 "cells": [
  {
   "cell_type": "code",
   "execution_count": null,
   "metadata": {},
   "outputs": [],
   "source": []
  },
  {
   "cell_type": "code",
   "execution_count": 1,
   "metadata": {},
   "outputs": [],
   "source": [
    "# Imports \n",
    "import os\n",
    "import glob2 as glob\n",
    "import cv2\n",
    "import numpy as np\n",
    "import matplotlib.pyplot as plt\n",
    "\n",
    "from skimage.transform import rotate\n",
    "from skimage.feature import local_binary_pattern\n",
    "from skimage import data\n",
    "from skimage.color import label2rgb"
   ]
  },
  {
   "cell_type": "code",
   "execution_count": 21,
   "metadata": {},
   "outputs": [],
   "source": [
    "dataset_folder = 'dataset\\\\Splited' # INSERT THE PATH TO THE DATASET\n",
    "\n",
    "# Define the paths to the train and test folders\n",
    "train_folder = os.path.join(dataset_folder, 'train')\n",
    "test_folder = os.path.join(dataset_folder, 'test')\n",
    "\n",
    "# Retrieve the list of file names in the train folder\n",
    "train_classes_path = glob.glob(os.path.join(train_folder, \"*\"))\n",
    "\n",
    "# Retrieve the list of file names in the test folder\n",
    "test_classes_path = glob.glob(os.path.join(test_folder, \"*\"))"
   ]
  },
  {
   "cell_type": "code",
   "execution_count": 25,
   "metadata": {},
   "outputs": [
    {
     "data": {
      "text/plain": [
       "'dataset\\\\Splited\\\\train\\\\KTH_aluminium_foil'"
      ]
     },
     "execution_count": 25,
     "metadata": {},
     "output_type": "execute_result"
    }
   ],
   "source": [
    "train_classes_path[0]"
   ]
  },
  {
   "cell_type": "code",
   "execution_count": null,
   "metadata": {},
   "outputs": [],
   "source": [
    "# Retrieve the list of classes\n",
    "glob.glob(os.path.join(train_classes_path[0], \"*\"))"
   ]
  },
  {
   "cell_type": "code",
   "execution_count": null,
   "metadata": {},
   "outputs": [],
   "source": [
    "# settings for LBP\n",
    "radius = 3\n",
    "n_points = 8 * radius\n",
    "METHOD = 'uniform'\n",
    "\n"
   ]
  },
  {
   "cell_type": "code",
   "execution_count": 7,
   "metadata": {},
   "outputs": [],
   "source": [
    "train_histograms"
   ]
  },
  {
   "cell_type": "markdown",
   "metadata": {},
   "source": [
    "### Distance Metrics"
   ]
  },
  {
   "cell_type": "code",
   "execution_count": 10,
   "metadata": {},
   "outputs": [],
   "source": [
    "# Kullback-Leibler Divergence (KL Divergence)\n",
    "def kl_divergence(hist_P, hist_Q):\n",
    "    # Ensure histograms are not zero\n",
    "    hist_P[hist_P == 0] = 1e-10\n",
    "    hist_Q[hist_Q == 0] = 1e-10\n",
    "    \n",
    "    # Calculate the KL Divergence\n",
    "    divergence = np.sum(hist_P * np.log(hist_P / hist_Q))\n",
    "    \n",
    "    return divergence"
   ]
  },
  {
   "cell_type": "code",
   "execution_count": 11,
   "metadata": {},
   "outputs": [],
   "source": [
    "# Chi-square distance\n",
    "def chi_square_distance(hist_P, hist_Q):\n",
    "    # Ensure histograms are not zero\n",
    "    hist_P[hist_P == 0] = 1e-10\n",
    "    hist_Q[hist_Q == 0] = 1e-10\n",
    "    \n",
    "    # Calculate the Chi-square distance\n",
    "    distance = np.sum((hist_P - hist_Q)**2 / (hist_P + hist_Q))\n",
    "    \n",
    "    return distance"
   ]
  },
  {
   "cell_type": "markdown",
   "metadata": {},
   "source": [
    "## Calculate LBP"
   ]
  },
  {
   "cell_type": "code",
   "execution_count": 26,
   "metadata": {},
   "outputs": [],
   "source": [
    "# custom implementation based on the adjacent negighbours\n",
    "def calculate_lbp(image):\n",
    "    # Convert the image to grayscale\n",
    "    gray = cv2.cvtColor(image, cv2.COLOR_BGR2GRAY)\n",
    "    \n",
    "    # Initialize the LBP image\n",
    "    lbp_image = np.zeros_like(gray)\n",
    "    \n",
    "    # Define 8 neighbors for each pixel\n",
    "    neighbors = [(0, 1), (-1, 1), (-1, 0), (-1, -1), (0, -1), (1, -1), (1, 0), (1, 1)]\n",
    "    \n",
    "    # Iterate over each pixel in the image\n",
    "    for i in range(1, gray.shape[0] - 1):\n",
    "        for j in range(1, gray.shape[1] - 1):\n",
    "            # Get the binary pattern\n",
    "            binary_pattern = ''\n",
    "            center_value = gray[i, j]\n",
    "            for dx, dy in neighbors:\n",
    "                neighbor_value = gray[i + dy, j + dx]\n",
    "                binary_pattern += '1' if neighbor_value >= center_value else '0'\n",
    "            \n",
    "            # Convert binary pattern to decimal\n",
    "            lbp_value = int(binary_pattern, 2)\n",
    "            \n",
    "            # Assign LBP value to corresponding pixel in LBP image\n",
    "            lbp_image[i, j] = lbp_value\n",
    "    \n",
    "    return lbp_image"
   ]
  },
  {
   "cell_type": "code",
   "execution_count": null,
   "metadata": {},
   "outputs": [],
   "source": []
  }
 ],
 "metadata": {
  "kernelspec": {
   "display_name": "Python 3",
   "language": "python",
   "name": "python3"
  },
  "language_info": {
   "codemirror_mode": {
    "name": "ipython",
    "version": 3
   },
   "file_extension": ".py",
   "mimetype": "text/x-python",
   "name": "python",
   "nbconvert_exporter": "python",
   "pygments_lexer": "ipython3",
   "version": "3.10.9"
  }
 },
 "nbformat": 4,
 "nbformat_minor": 2
}
